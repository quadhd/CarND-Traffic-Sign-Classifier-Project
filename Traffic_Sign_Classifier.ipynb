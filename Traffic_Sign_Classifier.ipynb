{
 "cells": [
  {
   "cell_type": "markdown",
   "metadata": {},
   "source": [
    "# Self-Driving Car Engineer Nanodegree\n",
    "\n",
    "## Deep Learning\n",
    "\n",
    "## Project: Build a Traffic Sign Recognition Classifier\n",
    "\n",
    "In this notebook, a template is provided for you to implement your functionality in stages which is required to successfully complete this project. If additional code is required that cannot be included in the notebook, be sure that the Python code is successfully imported and included in your submission, if necessary. Sections that begin with **'Implementation'** in the header indicate where you should begin your implementation for your project. Note that some sections of implementation are optional, and will be marked with **'Optional'** in the header.\n",
    "\n",
    "In addition to implementing code, there will be questions that you must answer which relate to the project and your implementation. Each section where you will answer a question is preceded by a **'Question'** header. Carefully read each question and provide thorough answers in the following text boxes that begin with **'Answer:'**. Your project submission will be evaluated based on your answers to each of the questions and the implementation you provide.\n",
    "\n",
    ">**Note:** Code and Markdown cells can be executed using the **Shift + Enter** keyboard shortcut. In addition, Markdown cells can be edited by typically double-clicking the cell to enter edit mode."
   ]
  },
  {
   "cell_type": "markdown",
   "metadata": {},
   "source": [
    "---\n",
    "## Step 0: Load The Data"
   ]
  },
  {
   "cell_type": "code",
   "execution_count": 1,
   "metadata": {
    "collapsed": false
   },
   "outputs": [],
   "source": [
    "# Load pickled data\n",
    "import pickle\n",
    "\n",
    "# TODO: Fill this in based on where you saved the training and testing data\n",
    "\n",
    "training_file = 'train.p'\n",
    "testing_file = 'test.p'\n",
    "\n",
    "with open(training_file, mode='rb') as f:\n",
    "    train = pickle.load(f)\n",
    "with open(testing_file, mode='rb') as f:\n",
    "    test = pickle.load(f)\n",
    "    \n",
    "X_train, y_train = train['features'], train['labels']\n",
    "X_test, y_test = test['features'], test['labels']"
   ]
  },
  {
   "cell_type": "markdown",
   "metadata": {},
   "source": [
    "---\n",
    "\n",
    "## Step 1: Dataset Summary & Exploration\n",
    "\n",
    "The pickled data is a dictionary with 4 key/value pairs:\n",
    "\n",
    "- `'features'` is a 4D array containing raw pixel data of the traffic sign images, (num examples, width, height, channels).\n",
    "- `'labels'` is a 2D array containing the label/class id of the traffic sign. The file `signnames.csv` contains id -> name mappings for each id.\n",
    "- `'sizes'` is a list containing tuples, (width, height) representing the the original width and height the image.\n",
    "- `'coords'` is a list containing tuples, (x1, y1, x2, y2) representing coordinates of a bounding box around the sign in the image. **THESE COORDINATES ASSUME THE ORIGINAL IMAGE. THE PICKLED DATA CONTAINS RESIZED VERSIONS (32 by 32) OF THESE IMAGES**\n",
    "\n",
    "Complete the basic data summary below."
   ]
  },
  {
   "cell_type": "code",
   "execution_count": 2,
   "metadata": {
    "collapsed": false
   },
   "outputs": [
    {
     "name": "stdout",
     "output_type": "stream",
     "text": [
      "Number of training examples = 39209\n",
      "Number of testing examples = 12630\n",
      "Image data shape = (32, 32, 3)\n",
      "Number of classes = 43\n"
     ]
    }
   ],
   "source": [
    "import numpy as np\n",
    "### Replace each question mark with the appropriate value.\n",
    "\n",
    "# TODO: Number of training examples\n",
    "n_train = len(X_train)\n",
    "\n",
    "# TODO: Number of testing examples.\n",
    "n_test = len(X_test)\n",
    "\n",
    "# TODO: What's the shape of an traffic sign image?\n",
    "image_shape = X_train[0].shape\n",
    "\n",
    "# TODO: How many unique classes/labels there are in the dataset.\n",
    "n_classes = 43#len(np.unique(y_train))\n",
    "\n",
    "print(\"Number of training examples =\", n_train)\n",
    "print(\"Number of testing examples =\", n_test)\n",
    "print(\"Image data shape =\", image_shape)\n",
    "print(\"Number of classes =\", n_classes)"
   ]
  },
  {
   "cell_type": "markdown",
   "metadata": {},
   "source": [
    "Visualize the German Traffic Signs Dataset using the pickled file(s). This is open ended, suggestions include: plotting traffic sign images, plotting the count of each sign, etc.\n",
    "\n",
    "The [Matplotlib](http://matplotlib.org/) [examples](http://matplotlib.org/examples/index.html) and [gallery](http://matplotlib.org/gallery.html) pages are a great resource for doing visualizations in Python.\n",
    "\n",
    "**NOTE:** It's recommended you start with something simple first. If you wish to do more, come back to it after you've completed the rest of the sections."
   ]
  },
  {
   "cell_type": "code",
   "execution_count": 3,
   "metadata": {
    "collapsed": false
   },
   "outputs": [
    {
     "name": "stdout",
     "output_type": "stream",
     "text": [
      "Training data set stats\n",
      "Sign 0 \"Speed limit (20km/h)\" has 210 images\n",
      "Sign 1 \"Speed limit (30km/h)\" has 2220 images\n",
      "Sign 2 \"Speed limit (50km/h)\" has 2250 images\n",
      "Sign 3 \"Speed limit (60km/h)\" has 1410 images\n",
      "Sign 4 \"Speed limit (70km/h)\" has 1980 images\n",
      "Sign 5 \"Speed limit (80km/h)\" has 1860 images\n",
      "Sign 6 \"End of speed limit (80km/h)\" has 420 images\n",
      "Sign 7 \"Speed limit (100km/h)\" has 1440 images\n",
      "Sign 8 \"Speed limit (120km/h)\" has 1410 images\n",
      "Sign 9 \"No passing\" has 1470 images\n",
      "Sign 10 \"No passing for vehicles over 3.5 metric tons\" has 2010 images\n",
      "Sign 11 \"Right-of-way at the next intersection\" has 1320 images\n",
      "Sign 12 \"Priority road\" has 2100 images\n",
      "Sign 13 \"Yield\" has 2160 images\n",
      "Sign 14 \"Stop\" has 780 images\n",
      "Sign 15 \"No vehicles\" has 630 images\n",
      "Sign 16 \"Vehicles over 3.5 metric tons prohibited\" has 420 images\n",
      "Sign 17 \"No entry\" has 1110 images\n",
      "Sign 18 \"General caution\" has 1200 images\n",
      "Sign 19 \"Dangerous curve to the left\" has 210 images\n",
      "Sign 20 \"Dangerous curve to the right\" has 360 images\n",
      "Sign 21 \"Double curve\" has 330 images\n",
      "Sign 22 \"Bumpy road\" has 390 images\n",
      "Sign 23 \"Slippery road\" has 510 images\n",
      "Sign 24 \"Road narrows on the right\" has 270 images\n",
      "Sign 25 \"Road work\" has 1500 images\n",
      "Sign 26 \"Traffic signals\" has 600 images\n",
      "Sign 27 \"Pedestrians\" has 240 images\n",
      "Sign 28 \"Children crossing\" has 540 images\n",
      "Sign 29 \"Bicycles crossing\" has 270 images\n",
      "Sign 30 \"Beware of ice/snow\" has 450 images\n",
      "Sign 31 \"Wild animals crossing\" has 780 images\n",
      "Sign 32 \"End of all speed and passing limits\" has 240 images\n",
      "Sign 33 \"Turn right ahead\" has 689 images\n",
      "Sign 34 \"Turn left ahead\" has 420 images\n",
      "Sign 35 \"Ahead only\" has 1200 images\n",
      "Sign 36 \"Go straight or right\" has 390 images\n",
      "Sign 37 \"Go straight or left\" has 210 images\n",
      "Sign 38 \"Keep right\" has 2070 images\n",
      "Sign 39 \"Keep left\" has 300 images\n",
      "Sign 40 \"Roundabout mandatory\" has 360 images\n",
      "Sign 41 \"End of no passing\" has 240 images\n",
      "Sign 42 \"End of no passing by vehicles over 3.5 metric tons\" has 240 images\n",
      "\n",
      "Test data set stats\n",
      "Sign 0 \"Speed limit (20km/h)\" has 60 images\n",
      "Sign 1 \"Speed limit (30km/h)\" has 720 images\n",
      "Sign 2 \"Speed limit (50km/h)\" has 750 images\n",
      "Sign 3 \"Speed limit (60km/h)\" has 450 images\n",
      "Sign 4 \"Speed limit (70km/h)\" has 660 images\n",
      "Sign 5 \"Speed limit (80km/h)\" has 630 images\n",
      "Sign 6 \"End of speed limit (80km/h)\" has 150 images\n",
      "Sign 7 \"Speed limit (100km/h)\" has 450 images\n",
      "Sign 8 \"Speed limit (120km/h)\" has 450 images\n",
      "Sign 9 \"No passing\" has 480 images\n",
      "Sign 10 \"No passing for vehicles over 3.5 metric tons\" has 660 images\n",
      "Sign 11 \"Right-of-way at the next intersection\" has 420 images\n",
      "Sign 12 \"Priority road\" has 690 images\n",
      "Sign 13 \"Yield\" has 720 images\n",
      "Sign 14 \"Stop\" has 270 images\n",
      "Sign 15 \"No vehicles\" has 210 images\n",
      "Sign 16 \"Vehicles over 3.5 metric tons prohibited\" has 150 images\n",
      "Sign 17 \"No entry\" has 360 images\n",
      "Sign 18 \"General caution\" has 390 images\n",
      "Sign 19 \"Dangerous curve to the left\" has 60 images\n",
      "Sign 20 \"Dangerous curve to the right\" has 90 images\n",
      "Sign 21 \"Double curve\" has 90 images\n",
      "Sign 22 \"Bumpy road\" has 120 images\n",
      "Sign 23 \"Slippery road\" has 150 images\n",
      "Sign 24 \"Road narrows on the right\" has 90 images\n",
      "Sign 25 \"Road work\" has 480 images\n",
      "Sign 26 \"Traffic signals\" has 180 images\n",
      "Sign 27 \"Pedestrians\" has 60 images\n",
      "Sign 28 \"Children crossing\" has 150 images\n",
      "Sign 29 \"Bicycles crossing\" has 90 images\n",
      "Sign 30 \"Beware of ice/snow\" has 150 images\n",
      "Sign 31 \"Wild animals crossing\" has 270 images\n",
      "Sign 32 \"End of all speed and passing limits\" has 60 images\n",
      "Sign 33 \"Turn right ahead\" has 210 images\n",
      "Sign 34 \"Turn left ahead\" has 120 images\n",
      "Sign 35 \"Ahead only\" has 390 images\n",
      "Sign 36 \"Go straight or right\" has 120 images\n",
      "Sign 37 \"Go straight or left\" has 60 images\n",
      "Sign 38 \"Keep right\" has 690 images\n",
      "Sign 39 \"Keep left\" has 90 images\n",
      "Sign 40 \"Roundabout mandatory\" has 90 images\n",
      "Sign 41 \"End of no passing\" has 60 images\n",
      "Sign 42 \"End of no passing by vehicles over 3.5 metric tons\" has 90 images\n",
      "(32, 32, 3)\n",
      "(32, 32, 3)\n",
      "17 No entry\n"
     ]
    },
    {
     "data": {
      "image/png": "[encoded data removed]",
      "text/plain": [
       "<matplotlib.figure.Figure at 0x1fe01987400>"
      ]
     },
     "metadata": {},
     "output_type": "display_data"
    }
   ],
   "source": [
    "### Data exploration visualization goes here.\n",
    "### Feel free to use as many code cells as needed.\n",
    "import matplotlib.pyplot as plt\n",
    "# Visualizations will be shown in the notebook.\n",
    "%matplotlib inline\n",
    "\n",
    "import random\n",
    "import numpy as np\n",
    "import csv\n",
    "\n",
    "reader = csv.reader(open('signnames.csv', 'r'))\n",
    "signs_dict = dict(reader)\n",
    "\n",
    "def print_set_stats(data_set):\n",
    "    uniq_ind, uniq_cnt = np.unique(data_set, return_counts=True)\n",
    "    for i in uniq_ind:\n",
    "        print('Sign', i, '\"' + signs_dict[str(i)] + '\"', 'has', uniq_cnt[i], 'images')\n",
    "\n",
    "print('Training data set stats')\n",
    "print_set_stats(y_train)\n",
    "print('\\nTest data set stats')\n",
    "print_set_stats(y_test)\n",
    "\n",
    "index = random.randint(0, n_train)\n",
    "print(X_train[index].shape)\n",
    "#image = X_train[index].squeeze()\n",
    "image = X_train[index]\n",
    "print(image.shape)\n",
    "\n",
    "plt.figure(figsize=(1,1))\n",
    "plt.imshow(image)\n",
    "print(y_train[index], signs_dict[str(y_train[index])])\n"
   ]
  },
  {
   "cell_type": "markdown",
   "metadata": {},
   "source": [
    "----\n",
    "\n",
    "## Step 2: Design and Test a Model Architecture\n",
    "\n",
    "Design and implement a deep learning model that learns to recognize traffic signs. Train and test your model on the [German Traffic Sign Dataset](http://benchmark.ini.rub.de/?section=gtsrb&subsection=dataset).\n",
    "\n",
    "There are various aspects to consider when thinking about this problem:\n",
    "\n",
    "- Neural network architecture\n",
    "- Play around preprocessing techniques (normalization, rgb to grayscale, etc)\n",
    "- Number of examples per label (some have more than others).\n",
    "- Generate fake data.\n",
    "\n",
    "Here is an example of a [published baseline model on this problem](http://yann.lecun.com/exdb/publis/pdf/sermanet-ijcnn-11.pdf). It's not required to be familiar with the approach used in the paper but, it's good practice to try to read papers like these.\n",
    "\n",
    "**NOTE:** The LeNet-5 implementation shown in the [classroom](https://classroom.udacity.com/nanodegrees/nd013/parts/fbf77062-5703-404e-b60c-95b78b2f3f9e/modules/6df7ae49-c61c-4bb2-a23e-6527e69209ec/lessons/601ae704-1035-4287-8b11-e2c2716217ad/concepts/d4aca031-508f-4e0b-b493-e7b706120f81) at the end of the CNN lesson is a solid starting point. You'll have to change the number of classes and possibly the preprocessing, but aside from that it's plug and play!"
   ]
  },
  {
   "cell_type": "markdown",
   "metadata": {},
   "source": [
    "### Implementation\n",
    "\n",
    "Use the code cell (or multiple code cells, if necessary) to implement the first step of your project. Once you have completed your implementation and are satisfied with the results, be sure to thoroughly answer the questions that follow."
   ]
  },
  {
   "cell_type": "code",
   "execution_count": 4,
   "metadata": {
    "collapsed": false
   },
   "outputs": [
    {
     "name": "stdout",
     "output_type": "stream",
     "text": [
      "(39209, 32, 32, 3)\n"
     ]
    },
    {
     "data": {
      "text/plain": [
       "'X_train = rgb2gray(X_train)\\nX_test = rgb2gray(X_test)\\nprint(X_train.shape)\\nplt.figure(figsize=(1,1))\\nplt.imshow(X_train[1], cmap=\"gray\")'"
      ]
     },
     "execution_count": 4,
     "metadata": {},
     "output_type": "execute_result"
    }
   ],
   "source": [
    "### Preprocess the data here.\n",
    "### Feel free to use as many code cells as needed.\n",
    "#???? do normalisation to 0-1 values?\n",
    "#???? do image adjustments?\n",
    "def rgb2gray(rgb):\n",
    "    r, g, b = rgb[:,:,:,0], rgb[:,:,:,1], rgb[:,:,:,2]\n",
    "    gray = np.rint(0.2989 * r + 0.5870 * g + 0.1140 * b)\n",
    "    return gray\n",
    "\n",
    "print(X_train.shape)\n",
    "\n",
    "'''X_train = rgb2gray(X_train)\n",
    "X_test = rgb2gray(X_test)\n",
    "print(X_train.shape)\n",
    "plt.figure(figsize=(1,1))\n",
    "plt.imshow(X_train[1], cmap=\"gray\")'''"
   ]
  },
  {
   "cell_type": "markdown",
   "metadata": {},
   "source": [
    "### Question 1 \n",
    "\n",
    "_Describe how you preprocessed the data. Why did you choose that technique?_"
   ]
  },
  {
   "cell_type": "markdown",
   "metadata": {},
   "source": [
    "**Answer:**"
   ]
  },
  {
   "cell_type": "code",
   "execution_count": 5,
   "metadata": {
    "collapsed": true
   },
   "outputs": [],
   "source": [
    "### Generate data additional data (OPTIONAL!)\n",
    "### and split the data into training/validation/testing sets here.\n",
    "### Feel free to use as many code cells as needed.\n",
    "from sklearn.model_selection import train_test_split\n",
    "\n",
    "X_train, X_valid, y_train, y_valid = train_test_split(\n",
    "    X_train,\n",
    "    y_train,\n",
    "    test_size=0.2,\n",
    "    random_state=435128)"
   ]
  },
  {
   "cell_type": "code",
   "execution_count": 6,
   "metadata": {
    "collapsed": false
   },
   "outputs": [
    {
     "name": "stdout",
     "output_type": "stream",
     "text": [
      "Train set after split:\n",
      "Sign 0 \"Speed limit (20km/h)\" has 156 images\n",
      "Sign 1 \"Speed limit (30km/h)\" has 1776 images\n",
      "Sign 2 \"Speed limit (50km/h)\" has 1805 images\n",
      "Sign 3 \"Speed limit (60km/h)\" has 1098 images\n",
      "Sign 4 \"Speed limit (70km/h)\" has 1608 images\n",
      "Sign 5 \"Speed limit (80km/h)\" has 1490 images\n",
      "Sign 6 \"End of speed limit (80km/h)\" has 336 images\n",
      "Sign 7 \"Speed limit (100km/h)\" has 1140 images\n",
      "Sign 8 \"Speed limit (120km/h)\" has 1120 images\n",
      "Sign 9 \"No passing\" has 1173 images\n",
      "Sign 10 \"No passing for vehicles over 3.5 metric tons\" has 1608 images\n",
      "Sign 11 \"Right-of-way at the next intersection\" has 1048 images\n",
      "Sign 12 \"Priority road\" has 1678 images\n",
      "Sign 13 \"Yield\" has 1715 images\n",
      "Sign 14 \"Stop\" has 625 images\n",
      "Sign 15 \"No vehicles\" has 514 images\n",
      "Sign 16 \"Vehicles over 3.5 metric tons prohibited\" has 336 images\n",
      "Sign 17 \"No entry\" has 881 images\n",
      "Sign 18 \"General caution\" has 951 images\n",
      "Sign 19 \"Dangerous curve to the left\" has 169 images\n",
      "Sign 20 \"Dangerous curve to the right\" has 291 images\n",
      "Sign 21 \"Double curve\" has 265 images\n",
      "Sign 22 \"Bumpy road\" has 302 images\n",
      "Sign 23 \"Slippery road\" has 384 images\n",
      "Sign 24 \"Road narrows on the right\" has 209 images\n",
      "Sign 25 \"Road work\" has 1213 images\n",
      "Sign 26 \"Traffic signals\" has 482 images\n",
      "Sign 27 \"Pedestrians\" has 196 images\n",
      "Sign 28 \"Children crossing\" has 436 images\n",
      "Sign 29 \"Bicycles crossing\" has 217 images\n",
      "Sign 30 \"Beware of ice/snow\" has 368 images\n",
      "Sign 31 \"Wild animals crossing\" has 628 images\n",
      "Sign 32 \"End of all speed and passing limits\" has 200 images\n",
      "Sign 33 \"Turn right ahead\" has 554 images\n",
      "Sign 34 \"Turn left ahead\" has 342 images\n",
      "Sign 35 \"Ahead only\" has 974 images\n",
      "Sign 36 \"Go straight or right\" has 322 images\n",
      "Sign 37 \"Go straight or left\" has 173 images\n",
      "Sign 38 \"Keep right\" has 1673 images\n",
      "Sign 39 \"Keep left\" has 244 images\n",
      "Sign 40 \"Roundabout mandatory\" has 289 images\n",
      "Sign 41 \"End of no passing\" has 190 images\n",
      "Sign 42 \"End of no passing by vehicles over 3.5 metric tons\" has 188 images\n",
      "\n",
      "Validation set after split:\n",
      "Sign 0 \"Speed limit (20km/h)\" has 54 images\n",
      "Sign 1 \"Speed limit (30km/h)\" has 444 images\n",
      "Sign 2 \"Speed limit (50km/h)\" has 445 images\n",
      "Sign 3 \"Speed limit (60km/h)\" has 312 images\n",
      "Sign 4 \"Speed limit (70km/h)\" has 372 images\n",
      "Sign 5 \"Speed limit (80km/h)\" has 370 images\n",
      "Sign 6 \"End of speed limit (80km/h)\" has 84 images\n",
      "Sign 7 \"Speed limit (100km/h)\" has 300 images\n",
      "Sign 8 \"Speed limit (120km/h)\" has 290 images\n",
      "Sign 9 \"No passing\" has 297 images\n",
      "Sign 10 \"No passing for vehicles over 3.5 metric tons\" has 402 images\n",
      "Sign 11 \"Right-of-way at the next intersection\" has 272 images\n",
      "Sign 12 \"Priority road\" has 422 images\n",
      "Sign 13 \"Yield\" has 445 images\n",
      "Sign 14 \"Stop\" has 155 images\n",
      "Sign 15 \"No vehicles\" has 116 images\n",
      "Sign 16 \"Vehicles over 3.5 metric tons prohibited\" has 84 images\n",
      "Sign 17 \"No entry\" has 229 images\n",
      "Sign 18 \"General caution\" has 249 images\n",
      "Sign 19 \"Dangerous curve to the left\" has 41 images\n",
      "Sign 20 \"Dangerous curve to the right\" has 69 images\n",
      "Sign 21 \"Double curve\" has 65 images\n",
      "Sign 22 \"Bumpy road\" has 88 images\n",
      "Sign 23 \"Slippery road\" has 126 images\n",
      "Sign 24 \"Road narrows on the right\" has 61 images\n",
      "Sign 25 \"Road work\" has 287 images\n",
      "Sign 26 \"Traffic signals\" has 118 images\n",
      "Sign 27 \"Pedestrians\" has 44 images\n",
      "Sign 28 \"Children crossing\" has 104 images\n",
      "Sign 29 \"Bicycles crossing\" has 53 images\n",
      "Sign 30 \"Beware of ice/snow\" has 82 images\n",
      "Sign 31 \"Wild animals crossing\" has 152 images\n",
      "Sign 32 \"End of all speed and passing limits\" has 40 images\n",
      "Sign 33 \"Turn right ahead\" has 135 images\n",
      "Sign 34 \"Turn left ahead\" has 78 images\n",
      "Sign 35 \"Ahead only\" has 226 images\n",
      "Sign 36 \"Go straight or right\" has 68 images\n",
      "Sign 37 \"Go straight or left\" has 37 images\n",
      "Sign 38 \"Keep right\" has 397 images\n",
      "Sign 39 \"Keep left\" has 56 images\n",
      "Sign 40 \"Roundabout mandatory\" has 71 images\n",
      "Sign 41 \"End of no passing\" has 50 images\n",
      "Sign 42 \"End of no passing by vehicles over 3.5 metric tons\" has 52 images\n"
     ]
    }
   ],
   "source": [
    "print('Train set after split:')\n",
    "print_set_stats(y_train)\n",
    "print('\\nValidation set after split:')\n",
    "print_set_stats(y_valid)"
   ]
  },
  {
   "cell_type": "markdown",
   "metadata": {},
   "source": [
    "### Question 2\n",
    "\n",
    "_Describe how you set up the training, validation and testing data for your model. **Optional**: If you generated additional data, how did you generate the data? Why did you generate the data? What are the differences in the new dataset (with generated data) from the original dataset?_"
   ]
  },
  {
   "cell_type": "markdown",
   "metadata": {},
   "source": [
    "**Answer:**"
   ]
  },
  {
   "cell_type": "code",
   "execution_count": 17,
   "metadata": {
    "collapsed": false
   },
   "outputs": [
    {
     "name": "stdout",
     "output_type": "stream",
     "text": [
      "1.4142135623730951\n"
     ]
    }
   ],
   "source": [
    "### Define your architecture here.\n",
    "### Feel free to use as many code cells as needed.\n",
    "from tensorflow.contrib.layers import flatten\n",
    "import math\n",
    "\n",
    "def maxpool2d(x, name, k=2):\n",
    "    return tf.nn.max_pool(\n",
    "        x,\n",
    "        ksize=[1, k, k, 1],\n",
    "        strides=[1, k, k, 1],\n",
    "        padding='SAME',\n",
    "        name=name)\n",
    "\n",
    "def conv2d(x, W, b, name, stride=1):\n",
    "    x = tf.nn.conv2d(x, W, strides=[1, stride, stride, 1], padding='VALID',name=name)\n",
    "    x = tf.nn.bias_add(x, b)\n",
    "    #x = tf.nn.sigmoid(x)\n",
    "    x = tf.nn.relu(x)\n",
    "    return x\n",
    "\n",
    "def linear(x, W, b, name):\n",
    "    x = tf.add(tf.matmul(x, W), b, name=name+'_add')\n",
    "    #x = tf.nn.sigmoid(x)\n",
    "    x = tf.nn.relu(x, name=name+'_relu')\n",
    "    return x\n",
    "\n",
    "def SignsClassifierNN(x):    \n",
    "    # Arguments used for tf.truncated_normal, randomly defines variables for the weights and biases for each layer\n",
    "    mu = 0\n",
    "    sigma = 0.1\n",
    "    weights = {\n",
    "        'wl1': tf.Variable(tf.truncated_normal([5, 5, 3, 6], mean=mu, stddev=math.sqrt(2/(75+6))), name='wl1'),\n",
    "        'wl2': tf.Variable(tf.truncated_normal([5, 5, 6, 16], mean=mu, stddev=math.sqrt(2/(150+16))), name='wl2'),\n",
    "        'wl3': tf.Variable(tf.truncated_normal([5*5*16, 120], mean=mu, stddev=math.sqrt(2/520)), name='wl3'),\n",
    "        'wl4': tf.Variable(tf.truncated_normal([120, 84], mean=mu, stddev=math.sqrt(2/(120+84))), name='wl4'),\n",
    "        'wout': tf.Variable(tf.truncated_normal([84, n_classes], mean=mu, stddev=math.sqrt(2/(84+n_classes))), name='wout')}\n",
    "    biases = {\n",
    "        'bl1': tf.Variable(tf.zeros([6]), name='bl1'),\n",
    "        'bl2': tf.Variable(tf.zeros([16]), name='bl2'),\n",
    "        'bl3': tf.Variable(tf.zeros([120]), name='bl3'),\n",
    "        'bl4': tf.Variable(tf.zeros([84]), name='bl4'),\n",
    "        'bout': tf.Variable(tf.zeros([n_classes]), name='bout')}\n",
    "    \n",
    "    # Layer 1: Convolutional. Input = 32x32x3. Output = 28x28x38.\n",
    "    layer1 = conv2d(x, weights['wl1'], biases['bl1'], name='L1_Conv')\n",
    "    #   Pooling. Input = 28x28x38. Output = 14x14x38.\n",
    "    layer1 = maxpool2d(layer1, name='L1_MPool')\n",
    "                       \n",
    "    # Layer 2: Convolutional. Output = 10x10x64.\n",
    "    layer2 = conv2d(layer1, weights['wl2'], biases['bl2'], name='L2_Conv')\n",
    "    #    Pooling. Input = 10x10x16. Output = 5x5x64.\n",
    "    layer2 = maxpool2d(layer2, name='L2_MPool')\n",
    "    #    Flatten. Input = 5x5x64. Output = 1600.\n",
    "    layer2 = tf.contrib.layers.flatten(layer2)\n",
    "    \n",
    "    # Layer 3: Fully Connected. Input = 1600. Output = 160.\n",
    "    layer3 = linear(layer2, weights['wl3'], biases['bl3'], name='L3_Linear')\n",
    "                       \n",
    "    # Layer 4: Fully Connected. Input = 160. Output = 86.\n",
    "    layer4 = linear(layer3, weights['wl4'], biases['bl4'], name='L4_Linear')\n",
    "                       \n",
    "    # Layer 5: Fully Connected. Input = 86. Output = n_classes = 43.\n",
    "    logits = linear(layer4 , weights['wout'], biases['bout'], name='LOut_Linear')\n",
    "                       \n",
    "    return logits"
   ]
  },
  {
   "cell_type": "markdown",
   "metadata": {},
   "source": [
    "### Question 3\n",
    "\n",
    "_What does your final architecture look like? (Type of model, layers, sizes, connectivity, etc.)  For reference on how to build a deep neural network using TensorFlow, see [Deep Neural Network in TensorFlow\n",
    "](https://classroom.udacity.com/nanodegrees/nd013/parts/fbf77062-5703-404e-b60c-95b78b2f3f9e/modules/6df7ae49-c61c-4bb2-a23e-6527e69209ec/lessons/b516a270-8600-4f93-a0a3-20dfeabe5da6/concepts/83a3a2a2-a9bd-4b7b-95b0-eb924ab14432) from the classroom._\n"
   ]
  },
  {
   "cell_type": "markdown",
   "metadata": {},
   "source": [
    "**Answer:**"
   ]
  },
  {
   "cell_type": "code",
   "execution_count": 18,
   "metadata": {
    "collapsed": false
   },
   "outputs": [],
   "source": [
    "### Train your model here.\n",
    "### Feel free to use as many code cells as needed.\n",
    "import tensorflow as tf\n",
    "\n",
    "EPOCHS = 10\n",
    "BATCH_SIZE = 128 #256 #128\n",
    "\n",
    "x = tf.placeholder(tf.float32, (None, 32, 32, 3))\n",
    "y = tf.placeholder(tf.int32, (None))\n",
    "one_hot_y = tf.one_hot(y, n_classes)\n",
    "\n",
    "# Training Pipeline\n",
    "rate = 0.001\n",
    "\n",
    "logits = SignsClassifierNN(x)\n",
    "cross_entropy = tf.nn.softmax_cross_entropy_with_logits(logits, one_hot_y)\n",
    "loss_operation = tf.reduce_mean(cross_entropy)\n",
    "optimizer = tf.train.AdamOptimizer(learning_rate = rate)\n",
    "training_operation = optimizer.minimize(loss_operation)\n",
    "\n",
    "# Evaluation model\n",
    "correct_prediction = tf.equal(tf.argmax(logits, 1), tf.argmax(one_hot_y, 1))\n",
    "accuracy_operation = tf.reduce_mean(tf.cast(correct_prediction, tf.float32))\n",
    "saver = tf.train.Saver()\n",
    "\n",
    "def evaluate(X_data, y_data):\n",
    "    num_examples = len(X_data)\n",
    "    total_accuracy = 0\n",
    "    sess = tf.get_default_session()\n",
    "    for offset in range(0, num_examples, BATCH_SIZE):\n",
    "        batch_x, batch_y = X_data[offset:offset+BATCH_SIZE], y_data[offset:offset+BATCH_SIZE]\n",
    "        accuracy = sess.run(accuracy_operation, feed_dict={x: batch_x, y: batch_y})\n",
    "        total_accuracy += (accuracy * len(batch_x))\n",
    "    return total_accuracy / num_examples\n",
    "\n"
   ]
  },
  {
   "cell_type": "code",
   "execution_count": 20,
   "metadata": {
    "collapsed": false
   },
   "outputs": [
    {
     "name": "stdout",
     "output_type": "stream",
     "text": [
      "Training...\n",
      "\n",
      "EPOCH 1 ...\n",
      "Validation Accuracy = 0.627\n",
      "\n",
      "EPOCH 2 ...\n",
      "Validation Accuracy = 0.763\n",
      "\n",
      "EPOCH 3 ...\n",
      "Validation Accuracy = 0.804\n",
      "\n",
      "EPOCH 4 ...\n",
      "Validation Accuracy = 0.807\n",
      "\n",
      "EPOCH 5 ...\n",
      "Validation Accuracy = 0.842\n",
      "\n",
      "EPOCH 6 ...\n",
      "Validation Accuracy = 0.844\n",
      "\n",
      "EPOCH 7 ...\n",
      "Validation Accuracy = 0.845\n",
      "\n",
      "EPOCH 8 ...\n",
      "Validation Accuracy = 0.841\n",
      "\n",
      "EPOCH 9 ...\n",
      "Validation Accuracy = 0.865\n",
      "\n",
      "EPOCH 10 ...\n",
      "Validation Accuracy = 0.856\n",
      "\n",
      "Model saved\n"
     ]
    }
   ],
   "source": [
    "# TRAINing module\n",
    "from sklearn.utils import shuffle\n",
    "\n",
    "with tf.Session() as sess:\n",
    "    sess.run(tf.global_variables_initializer())\n",
    "    num_examples = len(X_train)\n",
    "    \n",
    "    print(\"Training...\")\n",
    "    print()\n",
    "    for i in range(EPOCHS):\n",
    "        X_train, y_train = shuffle(X_train, y_train)\n",
    "        for offset in range(0, num_examples, BATCH_SIZE):\n",
    "            end = offset + BATCH_SIZE\n",
    "            batch_x, batch_y = X_train[offset:end], y_train[offset:end]\n",
    "            sess.run(training_operation, feed_dict={x: batch_x, y: batch_y})\n",
    "            \n",
    "        validation_accuracy = evaluate(X_valid, y_valid)\n",
    "        print(\"EPOCH {} ...\".format(i+1))\n",
    "        print(\"Validation Accuracy = {:.3f}\".format(validation_accuracy))\n",
    "        print()\n",
    "        \n",
    "    saver.save(sess, 'D:\\_study\\SDC\\Code\\CarND-Traffic-Sign-Classifier-Project\\signs_classifier_vars.dat')\n",
    "    print(\"Model saved\")"
   ]
  },
  {
   "cell_type": "markdown",
   "metadata": {},
   "source": [
    "### Question 4\n",
    "\n",
    "_How did you train your model? (Type of optimizer, batch size, epochs, hyperparameters, etc.)_\n"
   ]
  },
  {
   "cell_type": "markdown",
   "metadata": {},
   "source": [
    "**Answer:**"
   ]
  },
  {
   "cell_type": "markdown",
   "metadata": {},
   "source": [
    "### Question 5\n",
    "\n",
    "\n",
    "_What approach did you take in coming up with a solution to this problem? It may have been a process of trial and error, in which case, outline the steps you took to get to the final solution and why you chose those steps. Perhaps your solution involved an already well known implementation or architecture. In this case, discuss why you think this is suitable for the current problem._"
   ]
  },
  {
   "cell_type": "markdown",
   "metadata": {},
   "source": [
    "**Answer:**"
   ]
  },
  {
   "cell_type": "markdown",
   "metadata": {},
   "source": [
    "---\n",
    "\n",
    "## Step 3: Test a Model on New Images\n",
    "\n",
    "Take several pictures of traffic signs that you find on the web or around you (at least five), and run them through your classifier on your computer to produce example results. The classifier might not recognize some local signs but it could prove interesting nonetheless.\n",
    "\n",
    "You may find `signnames.csv` useful as it contains mappings from the class id (integer) to the actual sign name."
   ]
  },
  {
   "cell_type": "markdown",
   "metadata": {},
   "source": [
    "### Implementation\n",
    "\n",
    "Use the code cell (or multiple code cells, if necessary) to implement the first step of your project. Once you have completed your implementation and are satisfied with the results, be sure to thoroughly answer the questions that follow."
   ]
  },
  {
   "cell_type": "code",
   "execution_count": null,
   "metadata": {
    "collapsed": true
   },
   "outputs": [],
   "source": [
    "### Load the images and plot them here.\n",
    "### Feel free to use as many code cells as needed."
   ]
  },
  {
   "cell_type": "markdown",
   "metadata": {},
   "source": [
    "### Question 6\n",
    "\n",
    "_Choose five candidate images of traffic signs and provide them in the report. Are there any particular qualities of the image(s) that might make classification difficult? It could be helpful to plot the images in the notebook._\n",
    "\n"
   ]
  },
  {
   "cell_type": "markdown",
   "metadata": {},
   "source": [
    "**Answer:**"
   ]
  },
  {
   "cell_type": "code",
   "execution_count": null,
   "metadata": {
    "collapsed": true
   },
   "outputs": [],
   "source": [
    "### Run the predictions here.\n",
    "### Feel free to use as many code cells as needed."
   ]
  },
  {
   "cell_type": "markdown",
   "metadata": {},
   "source": [
    "### Question 7\n",
    "\n",
    "_Is your model able to perform equally well on captured pictures when compared to testing on the dataset? The simplest way to do this check the accuracy of the predictions. For example, if the model predicted 1 out of 5 signs correctly, it's 20% accurate._\n",
    "\n",
    "_**NOTE:** You could check the accuracy manually by using `signnames.csv` (same directory). This file has a mapping from the class id (0-42) to the corresponding sign name. So, you could take the class id the model outputs, lookup the name in `signnames.csv` and see if it matches the sign from the image._\n"
   ]
  },
  {
   "cell_type": "markdown",
   "metadata": {},
   "source": [
    "**Answer:**"
   ]
  },
  {
   "cell_type": "code",
   "execution_count": null,
   "metadata": {
    "collapsed": true
   },
   "outputs": [],
   "source": [
    "### Visualize the softmax probabilities here.\n",
    "### Feel free to use as many code cells as needed."
   ]
  },
  {
   "cell_type": "markdown",
   "metadata": {},
   "source": [
    "### Question 8\n",
    "\n",
    "*Use the model's softmax probabilities to visualize the **certainty** of its predictions, [`tf.nn.top_k`](https://www.tensorflow.org/versions/r0.12/api_docs/python/nn.html#top_k) could prove helpful here. Which predictions is the model certain of? Uncertain? If the model was incorrect in its initial prediction, does the correct prediction appear in the top k? (k should be 5 at most)*\n",
    "\n",
    "`tf.nn.top_k` will return the values and indices (class ids) of the top k predictions. So if k=3, for each sign, it'll return the 3 largest probabilities (out of a possible 43) and the correspoding class ids.\n",
    "\n",
    "Take this numpy array as an example:\n",
    "\n",
    "```\n",
    "# (5, 6) array\n",
    "a = np.array([[ 0.24879643,  0.07032244,  0.12641572,  0.34763842,  0.07893497,\n",
    "         0.12789202],\n",
    "       [ 0.28086119,  0.27569815,  0.08594638,  0.0178669 ,  0.18063401,\n",
    "         0.15899337],\n",
    "       [ 0.26076848,  0.23664738,  0.08020603,  0.07001922,  0.1134371 ,\n",
    "         0.23892179],\n",
    "       [ 0.11943333,  0.29198961,  0.02605103,  0.26234032,  0.1351348 ,\n",
    "         0.16505091],\n",
    "       [ 0.09561176,  0.34396535,  0.0643941 ,  0.16240774,  0.24206137,\n",
    "         0.09155967]])\n",
    "```\n",
    "\n",
    "Running it through `sess.run(tf.nn.top_k(tf.constant(a), k=3))` produces:\n",
    "\n",
    "```\n",
    "TopKV2(values=array([[ 0.34763842,  0.24879643,  0.12789202],\n",
    "       [ 0.28086119,  0.27569815,  0.18063401],\n",
    "       [ 0.26076848,  0.23892179,  0.23664738],\n",
    "       [ 0.29198961,  0.26234032,  0.16505091],\n",
    "       [ 0.34396535,  0.24206137,  0.16240774]]), indices=array([[3, 0, 5],\n",
    "       [0, 1, 4],\n",
    "       [0, 5, 1],\n",
    "       [1, 3, 5],\n",
    "       [1, 4, 3]], dtype=int32))\n",
    "```\n",
    "\n",
    "Looking just at the first row we get `[ 0.34763842,  0.24879643,  0.12789202]`, you can confirm these are the 3 largest probabilities in `a`. You'll also notice `[3, 0, 5]` are the corresponding indices."
   ]
  },
  {
   "cell_type": "markdown",
   "metadata": {},
   "source": [
    "**Answer:**"
   ]
  },
  {
   "cell_type": "markdown",
   "metadata": {},
   "source": [
    "> **Note**: Once you have completed all of the code implementations and successfully answered each question above, you may finalize your work by exporting the iPython Notebook as an HTML document. You can do this by using the menu above and navigating to  \\n\",\n",
    "    \"**File -> Download as -> HTML (.html)**. Include the finished document along with this notebook as your submission."
   ]
  },
  {
   "cell_type": "code",
   "execution_count": null,
   "metadata": {
    "collapsed": true
   },
   "outputs": [],
   "source": []
  }
 ],
 "metadata": {
  "anaconda-cloud": {},
  "kernelspec": {
   "display_name": "Python [default]",
   "language": "python",
   "name": "python3"
  },
  "language_info": {
   "codemirror_mode": {
    "name": "ipython",
    "version": 3
   },
   "file_extension": ".py",
   "mimetype": "text/x-python",
   "name": "python",
   "nbconvert_exporter": "python",
   "pygments_lexer": "ipython3",
   "version": "3.5.2"
  }
 },
 "nbformat": 4,
 "nbformat_minor": 1
}
